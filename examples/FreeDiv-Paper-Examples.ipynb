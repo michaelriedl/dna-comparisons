{
 "cells": [
  {
   "cell_type": "markdown",
   "metadata": {},
   "source": [
    "# Run the Examples from the FreeDiv Paper"
   ]
  },
  {
   "cell_type": "code",
   "execution_count": 1,
   "metadata": {},
   "outputs": [],
   "source": [
    "from dnacomp import hamming_distance, free_divergence"
   ]
  },
  {
   "cell_type": "markdown",
   "metadata": {},
   "source": [
    "## Make Comparisons for the Various Error Types"
   ]
  },
  {
   "cell_type": "code",
   "execution_count": 2,
   "metadata": {},
   "outputs": [
    {
     "name": "stdout",
     "output_type": "stream",
     "text": [
      "Substitution error example\n",
      "Hamming distance:  1.0\n",
      "Free divergence:  1.0\n"
     ]
    }
   ],
   "source": [
    "## Substitution error\n",
    "seq1 = \"GATTACA\"\n",
    "seq2 = \"GCTTACA\"\n",
    "\n",
    "print(\"Substitution error example\")\n",
    "print(\"Hamming distance: \", hamming_distance(seq1, seq2))\n",
    "print(\"Free divergence: \", free_divergence(seq1, seq2))"
   ]
  },
  {
   "cell_type": "code",
   "execution_count": 3,
   "metadata": {},
   "outputs": [
    {
     "name": "stdout",
     "output_type": "stream",
     "text": [
      "Insertion error example\n",
      "Hamming distance:  5.0\n",
      "Free divergence:  1.0\n"
     ]
    }
   ],
   "source": [
    "## Insertion error\n",
    "seq1 = \"GATTACA\"\n",
    "seq2 = \"GTATTAC\"\n",
    "\n",
    "print(\"Insertion error example\")\n",
    "print(\"Hamming distance: \", hamming_distance(seq1, seq2))\n",
    "print(\"Free divergence: \", free_divergence(seq1, seq2))"
   ]
  },
  {
   "cell_type": "code",
   "execution_count": 4,
   "metadata": {},
   "outputs": [
    {
     "name": "stdout",
     "output_type": "stream",
     "text": [
      "Deletion error example\n",
      "Hamming distance:  5.0\n",
      "Free divergence:  1.0\n"
     ]
    }
   ],
   "source": [
    "## Deletion error\n",
    "seq1 = \"GATTACA\"\n",
    "seq2 = \"GTTACAC\"\n",
    "\n",
    "print(\"Deletion error example\")\n",
    "print(\"Hamming distance: \", hamming_distance(seq1, seq2))\n",
    "print(\"Free divergence: \", free_divergence(seq1, seq2))"
   ]
  },
  {
   "cell_type": "code",
   "execution_count": null,
   "metadata": {},
   "outputs": [],
   "source": []
  }
 ],
 "metadata": {
  "kernelspec": {
   "display_name": "dnacomp-env",
   "language": "python",
   "name": "python3"
  },
  "language_info": {
   "codemirror_mode": {
    "name": "ipython",
    "version": 3
   },
   "file_extension": ".py",
   "mimetype": "text/x-python",
   "name": "python",
   "nbconvert_exporter": "python",
   "pygments_lexer": "ipython3",
   "version": "3.9.17"
  },
  "orig_nbformat": 4
 },
 "nbformat": 4,
 "nbformat_minor": 2
}
